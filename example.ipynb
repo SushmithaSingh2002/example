{
 "cells": [
  {
   "cell_type": "code",
   "execution_count": 5,
   "id": "9392e120-d53f-4342-832b-cc8a1950498e",
   "metadata": {},
   "outputs": [
    {
     "name": "stdout",
     "output_type": "stream",
     "text": [
      "Addition: 19\n",
      "Subtraction: 11\n",
      "Multiplication: 60\n",
      "Division: 3.75\n",
      "Floor Division: 3\n",
      "Modulus: 3\n",
      "Exponentiation: 50625\n"
     ]
    }
   ],
   "source": [
    "# Variables\n",
    "a = 15\n",
    "b = 4\n",
    "\n",
    "# Addition\n",
    "print(\"Addition:\", a + b)  \n",
    "\n",
    "# Subtraction\n",
    "print(\"Subtraction:\", a - b) \n",
    "\n",
    "# Multiplication\n",
    "print(\"Multiplication:\", a * b)  \n",
    "\n",
    "# Division\n",
    "print(\"Division:\", a / b) \n",
    "\n",
    "# Floor Division\n",
    "print(\"Floor Division:\", a // b)  \n",
    "\n",
    "# Modulus\n",
    "print(\"Modulus:\", a % b) \n",
    "\n",
    "# Exponentiation\n",
    "print(\"Exponentiation:\", a ** b)  \n"
   ]
  },
  {
   "cell_type": "code",
   "execution_count": null,
   "id": "36a0efa5-0f2f-4c0d-aa81-8da7c58b3893",
   "metadata": {},
   "outputs": [],
   "source": []
  }
 ],
 "metadata": {
  "kernelspec": {
   "display_name": "Python [conda env:base] *",
   "language": "python",
   "name": "conda-base-py"
  },
  "language_info": {
   "codemirror_mode": {
    "name": "ipython",
    "version": 3
   },
   "file_extension": ".py",
   "mimetype": "text/x-python",
   "name": "python",
   "nbconvert_exporter": "python",
   "pygments_lexer": "ipython3",
   "version": "3.12.7"
  }
 },
 "nbformat": 4,
 "nbformat_minor": 5
}
